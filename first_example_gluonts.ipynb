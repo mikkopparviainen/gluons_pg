{
 "cells": [
  {
   "cell_type": "markdown",
   "id": "eb6e52b5",
   "metadata": {},
   "source": [
    "# Simple Example\n",
    "To illustrate how to use GluonTS, we train a DeepAR-model and make predictions using the airpassengers dataset. The dataset consists of a single time series of monthly passenger numbers between 1949 and 1960. We train the model on the first nine years and make predictions for the remaining three years.\n"
   ]
  },
  {
   "cell_type": "code",
   "execution_count": null,
   "id": "9f3eaa07",
   "metadata": {},
   "outputs": [],
   "source": [
    "\n",
    "import pandas as pd\n",
    "import matplotlib.pyplot as plt\n",
    "\n",
    "from gluonts.dataset.pandas import PandasDataset\n",
    "from gluonts.dataset.split import split\n",
    "from gluonts.torch import DeepAREstimator\n",
    "\n",
    "# Load data from a CSV file into a PandasDataset\n",
    "df = pd.read_csv(\n",
    "    \"https://raw.githubusercontent.com/AileenNielsen/\"\n",
    "    \"TimeSeriesAnalysisWithPython/master/data/AirPassengers.csv\",\n",
    "    index_col=0,\n",
    "    parse_dates=True,\n",
    ")\n",
    "dataset = PandasDataset(df, target=\"#Passengers\")\n",
    "\n",
    "# Split the data for training and testing\n",
    "training_data, test_gen = split(dataset, offset=-36)\n",
    "#split?\n",
    "print(f\"training_data: {(training_data)}\")\n",
    "training_data_iterable=iter(training_data)\n",
    "print(next(training_data_iterable))\n",
    "#print(next(training_data_iterable))\n",
    "test_data = test_gen.generate_instances(prediction_length=12, windows=3)\n",
    "print(f\"test_data: {test_data}\")\n"
   ]
  },
  {
   "cell_type": "code",
   "execution_count": null,
   "id": "4e7bed3c",
   "metadata": {},
   "outputs": [],
   "source": [
    "# Train the model and make predictions\n",
    "model = DeepAREstimator(\n",
    "    prediction_length=12, freq=\"M\", trainer_kwargs={\"max_epochs\": 5}\n",
    ").train(training_data)\n",
    "\n",
    "forecasts = list(model.predict(test_data.input))\n",
    "\n",
    "# Plot predictions\n",
    "plt.plot(df[\"1954\":], color=\"black\")\n",
    "fc_count = 0\n",
    "for forecast in forecasts:\n",
    "    print(forecast)\n",
    "    fc_count += 1\n",
    "    forecast.plot()\n",
    "print(f\"fc_count:{fc_count}\")\n",
    "plt.legend([\"True values\"], loc=\"upper left\", fontsize=\"xx-large\")\n",
    "plt.show()"
   ]
  },
  {
   "cell_type": "code",
   "execution_count": null,
   "id": "ee5e6005",
   "metadata": {},
   "outputs": [],
   "source": [
    "# Plot predictions\n",
    "# forecasts contain the number of windows\n",
    "plt.figure()\n",
    "plt.plot(df[\"1954\":], color=\"black\")\n",
    "fc_count = 0\n",
    "for forecast in forecasts:\n",
    "    print(len(forecast.samples))\n",
    "    fc_count += 1\n",
    "    forecast.plot()\n",
    "    if fc_count > 0:\n",
    "        break\n",
    "print(f\"fc_count:{fc_count}\")\n",
    "plt.legend([\"True values\"], loc=\"upper left\", fontsize=\"xx-large\")\n",
    "plt.show()"
   ]
  },
  {
   "cell_type": "code",
   "execution_count": null,
   "id": "3df1ae05",
   "metadata": {},
   "outputs": [],
   "source": []
  }
 ],
 "metadata": {
  "kernelspec": {
   "display_name": "Python 3 (py_310)",
   "language": "python",
   "name": "python3"
  },
  "language_info": {
   "codemirror_mode": {
    "name": "ipython",
    "version": 3
   },
   "file_extension": ".py",
   "mimetype": "text/x-python",
   "name": "python",
   "nbconvert_exporter": "python",
   "pygments_lexer": "ipython3",
   "version": "3.10.0"
  }
 },
 "nbformat": 4,
 "nbformat_minor": 5
}
